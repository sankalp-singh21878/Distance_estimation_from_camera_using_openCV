{
 "cells": [
  {
   "cell_type": "code",
   "execution_count": null,
   "id": "4585ba39",
   "metadata": {},
   "outputs": [],
   "source": [
    "from imutils import paths\n",
    "import numpy as np\n",
    "import imutils\n",
    "import cv2"
   ]
  },
  {
   "cell_type": "code",
   "execution_count": null,
   "id": "2797d75c",
   "metadata": {},
   "outputs": [],
   "source": [
    "known_distance = 76.2\n",
    "known_width = 14.3\n",
    "\n",
    "GREEN = (0, 255, 0)\n",
    "RED = (0, 0, 255)\n",
    "WHITE = (255, 255, 255)\n",
    "BLACK = (0, 0, 0)\n",
    "\n",
    "fonts = cv2.FONT_HERSHEY_COMPLEX"
   ]
  },
  {
   "cell_type": "code",
   "execution_count": null,
   "id": "422c7c04",
   "metadata": {},
   "outputs": [],
   "source": [
    "#Face detector object\n",
    "face_detector = cv2.CascadeClassifier(cv2.data.haarcascades + 'haarcascade_frontalface_default.xml')"
   ]
  },
  {
   "cell_type": "code",
   "execution_count": null,
   "id": "4d7eb991",
   "metadata": {},
   "outputs": [],
   "source": [
    "def focal_distance(knownWidth, focalLength, perWidth):\n",
    "    return (knownWidth * focalLength) / perWidth"
   ]
  },
  {
   "cell_type": "code",
   "execution_count": null,
   "id": "68b9d1c0",
   "metadata": {},
   "outputs": [],
   "source": [
    "def distance_finder(focal_length, real_face_width, face_width_in_frame):\n",
    "    return (real_face_width * focal_length) / face_width_in_frame"
   ]
  },
  {
   "cell_type": "code",
   "execution_count": null,
   "id": "829b0981",
   "metadata": {},
   "outputs": [],
   "source": [
    "def face_data(image):\n",
    "    face_width = 0\n",
    "    \n",
    "    gray = cv2.cvtColor(image, cv2.COLOR_BGR2GRAY)\n",
    "    faces = face_detector.detectMultiScale(gray, 1.3, 5)\n",
    "    \n",
    "    for (x, y, h, w) in faces:\n",
    "        cv2.rectangle(image, (x, y), (x+w, y+h), GREEN, 2)\n",
    "        face_width = w\n",
    "        \n",
    "    return face_width"
   ]
  },
  {
   "cell_type": "code",
   "execution_count": null,
   "id": "4b2188a8",
   "metadata": {},
   "outputs": [],
   "source": [
    "ref_image = cv2.imread(\"ref_pic.jpg\")\n",
    "\n",
    "ref_image_face_width = face_data(ref_image)\n",
    "\n",
    "focal_length = focal_distance(known_distance, known_width, ref_image_face_width)\n",
    "\n",
    "cv2.imshow(\"ref_image\", ref_image)\n",
    "cap = cv2.VideoCapture(0)\n",
    "\n",
    "while True:\n",
    "    _, frame = cap.read()\n",
    "    face_width_in_frame = face_data(frame)\n",
    "    \n",
    "    if face_width_in_frame != 0:\n",
    "        distance = distance_finder(focal_length, known_width, face_width_in_frame)\n",
    "        \n",
    "        cv2.line(frame, (30, 30), (230, 30), RED, 32)\n",
    "        cv2.line(frame, (30, 30), (230, 30), BLACK, 28)\n",
    "        \n",
    "        cv2.putText(frame, f\"Distance: {round(distance, 2)} CM\", (30, 35), fonts, 0.6, GREEN, 2)\n",
    "        \n",
    "        cv2.imshow(\"frame\", frame)\n",
    "        \n",
    "        if cv2.waitKey(1) == ord(\"q\"):\n",
    "            break\n",
    "cap.release()\n",
    "cv2.destroyAllWindows()"
   ]
  }
 ],
 "metadata": {
  "kernelspec": {
   "display_name": "Python 3",
   "language": "python",
   "name": "python3"
  },
  "language_info": {
   "codemirror_mode": {
    "name": "ipython",
    "version": 3
   },
   "file_extension": ".py",
   "mimetype": "text/x-python",
   "name": "python",
   "nbconvert_exporter": "python",
   "pygments_lexer": "ipython3",
   "version": "3.9.5"
  }
 },
 "nbformat": 4,
 "nbformat_minor": 5
}
